{
 "cells": [
  {
   "cell_type": "code",
   "execution_count": 1,
   "id": "a740f497-6f3f-4342-84e2-25362ce632ed",
   "metadata": {},
   "outputs": [
    {
     "data": {
      "text/plain": [
       "5"
      ]
     },
     "execution_count": 1,
     "metadata": {},
     "output_type": "execute_result"
    }
   ],
   "source": [
    " a = 5\n",
    " a"
   ]
  },
  {
   "cell_type": "code",
   "execution_count": 2,
   "id": "84d61e56-6c90-4769-b065-885e51e41f21",
   "metadata": {},
   "outputs": [
    {
     "data": {
      "text/plain": [
       "str"
      ]
     },
     "execution_count": 2,
     "metadata": {},
     "output_type": "execute_result"
    }
   ],
   "source": [
    " name = \"abhishek\"\n",
    " type(name)"
   ]
  },
  {
   "cell_type": "code",
   "execution_count": 3,
   "id": "c9a43cb7-8163-4724-9ac7-52778e871913",
   "metadata": {},
   "outputs": [
    {
     "data": {
      "text/plain": [
       "'abhis'"
      ]
     },
     "execution_count": 3,
     "metadata": {},
     "output_type": "execute_result"
    }
   ],
   "source": [
    "name[0:5]"
   ]
  },
  {
   "cell_type": "code",
   "execution_count": 4,
   "id": "e1aacc1a-9c2c-45c9-b3fc-9138a3912288",
   "metadata": {},
   "outputs": [
    {
     "data": {
      "text/plain": [
       "'kehsihba'"
      ]
     },
     "execution_count": 4,
     "metadata": {},
     "output_type": "execute_result"
    }
   ],
   "source": [
    "name[::-1]"
   ]
  },
  {
   "cell_type": "code",
   "execution_count": 5,
   "id": "1079a544-8f80-49bf-be61-f3685cca4238",
   "metadata": {},
   "outputs": [
    {
     "data": {
      "text/plain": [
       "bool"
      ]
     },
     "execution_count": 5,
     "metadata": {},
     "output_type": "execute_result"
    }
   ],
   "source": [
    "b = True\n",
    "type(b)"
   ]
  },
  {
   "cell_type": "code",
   "execution_count": 6,
   "id": "735b3a93-627e-4969-8702-1a4eca368cee",
   "metadata": {},
   "outputs": [
    {
     "data": {
      "text/plain": [
       "complex"
      ]
     },
     "execution_count": 6,
     "metadata": {},
     "output_type": "execute_result"
    }
   ],
   "source": [
    "c = 5+6J\n",
    "type(c)"
   ]
  },
  {
   "cell_type": "code",
   "execution_count": 10,
   "id": "738c6288-fd1c-4fdc-8eb8-a3ef3245a30e",
   "metadata": {},
   "outputs": [
    {
     "data": {
      "text/plain": [
       "8"
      ]
     },
     "execution_count": 10,
     "metadata": {},
     "output_type": "execute_result"
    }
   ],
   "source": [
    "len(name)"
   ]
  },
  {
   "cell_type": "code",
   "execution_count": 11,
   "id": "631dd731-067b-4bce-bcc4-b22b5b9b215e",
   "metadata": {},
   "outputs": [
    {
     "data": {
      "text/plain": [
       "2"
      ]
     },
     "execution_count": 11,
     "metadata": {},
     "output_type": "execute_result"
    }
   ],
   "source": [
    "name.find('h')"
   ]
  },
  {
   "cell_type": "code",
   "execution_count": 12,
   "id": "9867be5d-31cd-4986-bf62-72f5212b69e9",
   "metadata": {},
   "outputs": [
    {
     "data": {
      "text/plain": [
       "[3, 'abhi', (3+4j)]"
      ]
     },
     "execution_count": 12,
     "metadata": {},
     "output_type": "execute_result"
    }
   ],
   "source": [
    "c = [3,'abhi',3+4J]\n",
    "c"
   ]
  },
  {
   "cell_type": "code",
   "execution_count": 13,
   "id": "655bdcda-da19-4316-8871-cb7ded0dde5c",
   "metadata": {},
   "outputs": [],
   "source": [
    "c.append([3,4,5])"
   ]
  },
  {
   "cell_type": "code",
   "execution_count": 14,
   "id": "0364e727-3f00-4700-be56-ae5c87cfe04a",
   "metadata": {},
   "outputs": [
    {
     "data": {
      "text/plain": [
       "[3, 'abhi', (3+4j), [3, 4, 5]]"
      ]
     },
     "execution_count": 14,
     "metadata": {},
     "output_type": "execute_result"
    }
   ],
   "source": [
    "c"
   ]
  },
  {
   "cell_type": "code",
   "execution_count": 15,
   "id": "00db82de-8eff-4899-90ac-d0e4afcf387c",
   "metadata": {},
   "outputs": [],
   "source": [
    "c.append(\"ayush\")"
   ]
  },
  {
   "cell_type": "code",
   "execution_count": 16,
   "id": "3a8cb01c-ef86-41a9-8f41-92fcee6086c3",
   "metadata": {},
   "outputs": [
    {
     "data": {
      "text/plain": [
       "[3, 'abhi', (3+4j), [3, 4, 5], 'ayush']"
      ]
     },
     "execution_count": 16,
     "metadata": {},
     "output_type": "execute_result"
    }
   ],
   "source": [
    "c"
   ]
  },
  {
   "cell_type": "code",
   "execution_count": 17,
   "id": "a2fdcaed-bcde-4cd9-8c1d-27b56a457cec",
   "metadata": {},
   "outputs": [],
   "source": [
    "c.extend('aj')"
   ]
  },
  {
   "cell_type": "code",
   "execution_count": 18,
   "id": "107d8e79-7aa5-41f6-b67f-e4e3b0be416e",
   "metadata": {},
   "outputs": [
    {
     "data": {
      "text/plain": [
       "[3, 'abhi', (3+4j), [3, 4, 5], 'ayush', 'a', 'j']"
      ]
     },
     "execution_count": 18,
     "metadata": {},
     "output_type": "execute_result"
    }
   ],
   "source": [
    "c"
   ]
  },
  {
   "cell_type": "code",
   "execution_count": 19,
   "id": "9d809ea6-fafc-4fd1-94ee-1d140d6aaff2",
   "metadata": {},
   "outputs": [],
   "source": [
    "c.insert(3,\"piglu\")"
   ]
  },
  {
   "cell_type": "code",
   "execution_count": 20,
   "id": "439d0bc9-4f46-42bb-9a39-14f5053899d3",
   "metadata": {},
   "outputs": [
    {
     "data": {
      "text/plain": [
       "[3, 'abhi', (3+4j), 'piglu', [3, 4, 5], 'ayush', 'a', 'j']"
      ]
     },
     "execution_count": 20,
     "metadata": {},
     "output_type": "execute_result"
    }
   ],
   "source": [
    "c"
   ]
  },
  {
   "cell_type": "code",
   "execution_count": 53,
   "id": "dae0027f-332d-424a-b3f6-3a8829b9caf6",
   "metadata": {},
   "outputs": [
    {
     "data": {
      "text/plain": [
       "[3, 'abhi', (3+4j), 'piglu', [3, 4, 5], 'ayush', 'a', 'j']"
      ]
     },
     "execution_count": 53,
     "metadata": {},
     "output_type": "execute_result"
    }
   ],
   "source": [
    "b = [3, 'abhi', (3+4j), 'piglu', [3, 4, 5], 'ayush', 'a', 'j']\n",
    "b"
   ]
  },
  {
   "cell_type": "code",
   "execution_count": 54,
   "id": "6aa02e73-c0ca-4d24-97f7-f0d8c1c3f450",
   "metadata": {},
   "outputs": [
    {
     "data": {
      "text/plain": [
       "'piglu'"
      ]
     },
     "execution_count": 54,
     "metadata": {},
     "output_type": "execute_result"
    }
   ],
   "source": [
    "b.pop(3)"
   ]
  },
  {
   "cell_type": "code",
   "execution_count": 60,
   "id": "be626654-b52d-483b-9b68-1e89794fdfa4",
   "metadata": {},
   "outputs": [
    {
     "data": {
      "text/plain": [
       "[3, 'abhi', (3+4j), 'piglu', [3, 4, 5], 'ayush', 'a', 'j']"
      ]
     },
     "execution_count": 60,
     "metadata": {},
     "output_type": "execute_result"
    }
   ],
   "source": [
    "d = [3, 'abhi', (3+4j), 'piglu', [3, 4, 5], 'ayush', 'a', 'j']\n",
    "d"
   ]
  },
  {
   "cell_type": "code",
   "execution_count": 61,
   "id": "a2c6107f-ccd7-4b3e-b6d6-9371ed13d2ca",
   "metadata": {},
   "outputs": [
    {
     "data": {
      "text/plain": [
       "[3, 'abhi', (3+4j), [3, 4, 5], 'ayush', 'a', 'j']"
      ]
     },
     "execution_count": 61,
     "metadata": {},
     "output_type": "execute_result"
    }
   ],
   "source": [
    "d.remove('piglu')\n",
    "d"
   ]
  },
  {
   "cell_type": "code",
   "execution_count": 62,
   "id": "fe7e52ac-702e-4aee-ad0a-cf7c37515dc5",
   "metadata": {},
   "outputs": [],
   "source": [
    "d.reverse()"
   ]
  },
  {
   "cell_type": "code",
   "execution_count": 63,
   "id": "f1b87322-6b86-41dc-ac41-8dc06844c7a8",
   "metadata": {},
   "outputs": [
    {
     "data": {
      "text/plain": [
       "['j', 'a', 'ayush', [3, 4, 5], (3+4j), 'abhi', 3]"
      ]
     },
     "execution_count": 63,
     "metadata": {},
     "output_type": "execute_result"
    }
   ],
   "source": [
    "d"
   ]
  },
  {
   "cell_type": "code",
   "execution_count": 65,
   "id": "599178a8-5c0b-424a-aefb-fe7fd5b4cf5c",
   "metadata": {},
   "outputs": [
    {
     "data": {
      "text/plain": [
       "6"
      ]
     },
     "execution_count": 65,
     "metadata": {},
     "output_type": "execute_result"
    }
   ],
   "source": [
    "d.index(3)"
   ]
  },
  {
   "cell_type": "code",
   "execution_count": 66,
   "id": "24064c2a-6b31-41a6-b592-f8f08cc49667",
   "metadata": {},
   "outputs": [
    {
     "data": {
      "text/plain": [
       "1"
      ]
     },
     "execution_count": 66,
     "metadata": {},
     "output_type": "execute_result"
    }
   ],
   "source": [
    "d.count('a')"
   ]
  },
  {
   "cell_type": "code",
   "execution_count": 68,
   "id": "ce48122a-4f49-41e1-b4c0-20bccd72ce6e",
   "metadata": {},
   "outputs": [
    {
     "data": {
      "text/plain": [
       "['a', 'ayush', 'j', 'akhil', (3+4j), 'abhi', 3]"
      ]
     },
     "execution_count": 68,
     "metadata": {},
     "output_type": "execute_result"
    }
   ],
   "source": [
    "name = 'ayush'\n",
    "d[3] = 'akhil'\n",
    "d"
   ]
  },
  {
   "cell_type": "code",
   "execution_count": 69,
   "id": "ffa410e1-4e4e-43cb-9b31-b84bbb3f0f9f",
   "metadata": {},
   "outputs": [
    {
     "data": {
      "text/plain": [
       "'adarsh'"
      ]
     },
     "execution_count": 69,
     "metadata": {},
     "output_type": "execute_result"
    }
   ],
   "source": [
    "tp = (2,3,'adarsh')\n",
    "tp[2]"
   ]
  },
  {
   "cell_type": "code",
   "execution_count": 70,
   "id": "95fa6392-1a98-4d4d-8574-5269788a2f7b",
   "metadata": {},
   "outputs": [],
   "source": [
    "a = (2,3,6,[6,7,8])"
   ]
  },
  {
   "cell_type": "code",
   "execution_count": 71,
   "id": "46cae9c3-787a-4afe-a537-90ed732213c9",
   "metadata": {},
   "outputs": [
    {
     "data": {
      "text/plain": [
       "(2, 3, 6, [6, 7, 8])"
      ]
     },
     "execution_count": 71,
     "metadata": {},
     "output_type": "execute_result"
    }
   ],
   "source": [
    "a"
   ]
  },
  {
   "cell_type": "code",
   "execution_count": 73,
   "id": "1fcbac40-5093-403c-938c-0d27819c747c",
   "metadata": {},
   "outputs": [],
   "source": [
    "sett = {3,4,\"adarsh\",(1,2,3)}"
   ]
  },
  {
   "cell_type": "code",
   "execution_count": 74,
   "id": "f4c98944-0d32-4831-9bc9-aedc5a6c35bf",
   "metadata": {},
   "outputs": [
    {
     "data": {
      "text/plain": [
       "{(1, 2, 3), 3, 4, 'adarsh'}"
      ]
     },
     "execution_count": 74,
     "metadata": {},
     "output_type": "execute_result"
    }
   ],
   "source": [
    "sett"
   ]
  },
  {
   "cell_type": "code",
   "execution_count": 78,
   "id": "ab805389-c144-4ab9-9907-5eddb75aa4cb",
   "metadata": {},
   "outputs": [],
   "source": [
    "az = list(sett)"
   ]
  },
  {
   "cell_type": "code",
   "execution_count": 79,
   "id": "9f281066-2812-4583-831a-63b5716852c4",
   "metadata": {},
   "outputs": [
    {
     "data": {
      "text/plain": [
       "[3, 4, 'adarsh', (1, 2, 3)]"
      ]
     },
     "execution_count": 79,
     "metadata": {},
     "output_type": "execute_result"
    }
   ],
   "source": [
    "az"
   ]
  },
  {
   "cell_type": "code",
   "execution_count": 81,
   "id": "2af52dd6-aabd-492c-8b00-00ffc995567d",
   "metadata": {},
   "outputs": [
    {
     "data": {
      "text/plain": [
       "{(1, 2, 3), 3, 4, 'adarsh'}"
      ]
     },
     "execution_count": 81,
     "metadata": {},
     "output_type": "execute_result"
    }
   ],
   "source": [
    "am = set(az)\n",
    "am"
   ]
  },
  {
   "cell_type": "code",
   "execution_count": 84,
   "id": "ab5f7ba2-b4d6-4ccb-b4d0-ee9293ef4157",
   "metadata": {},
   "outputs": [],
   "source": [
    "am.add('ankit')"
   ]
  },
  {
   "cell_type": "code",
   "execution_count": 85,
   "id": "dc4a7627-5849-4d50-9165-3a2b5b41b43d",
   "metadata": {},
   "outputs": [
    {
     "data": {
      "text/plain": [
       "{(1, 2, 3), 3, 4, 'adarsh', 'ankit'}"
      ]
     },
     "execution_count": 85,
     "metadata": {},
     "output_type": "execute_result"
    }
   ],
   "source": [
    "am"
   ]
  },
  {
   "cell_type": "code",
   "execution_count": 3,
   "id": "c1a8effe-b777-4786-a5e7-29b31e702aed",
   "metadata": {},
   "outputs": [],
   "source": [
    "d = {'name' : 'sudh', 'a' : 456 , True : 120 }"
   ]
  },
  {
   "cell_type": "code",
   "execution_count": 4,
   "id": "8e94d213-6a18-49cd-8551-e281cabb1568",
   "metadata": {},
   "outputs": [
    {
     "data": {
      "text/plain": [
       "456"
      ]
     },
     "execution_count": 4,
     "metadata": {},
     "output_type": "execute_result"
    }
   ],
   "source": [
    "d['a']"
   ]
  },
  {
   "cell_type": "code",
   "execution_count": 5,
   "id": "2ea3cddb-e5d1-4bf1-9d1f-cdb4792a60e2",
   "metadata": {},
   "outputs": [
    {
     "data": {
      "text/plain": [
       "120"
      ]
     },
     "execution_count": 5,
     "metadata": {},
     "output_type": "execute_result"
    }
   ],
   "source": [
    "d[True]"
   ]
  },
  {
   "cell_type": "code",
   "execution_count": 6,
   "id": "88f28c2a-aec7-4e22-8683-2423467e8f8f",
   "metadata": {},
   "outputs": [],
   "source": [
    "b = {5:120,'name':'adarsh','sataye':[1,2,3,4],'sajai':(3,45,'amit'),'asees':{450,'no','yes'},'mannat':{'adarsh':'yes','shruti':456}}"
   ]
  },
  {
   "cell_type": "code",
   "execution_count": 7,
   "id": "86d699a5-815e-49a4-b299-6869283f7f33",
   "metadata": {},
   "outputs": [
    {
     "data": {
      "text/plain": [
       "{5: 120,\n",
       " 'name': 'adarsh',\n",
       " 'sataye': [1, 2, 3, 4],\n",
       " 'sajai': (3, 45, 'amit'),\n",
       " 'asees': {450, 'no', 'yes'},\n",
       " 'mannat': {'adarsh': 'yes', 'shruti': 456}}"
      ]
     },
     "execution_count": 7,
     "metadata": {},
     "output_type": "execute_result"
    }
   ],
   "source": [
    "b"
   ]
  },
  {
   "cell_type": "code",
   "execution_count": 8,
   "id": "03021c07-278f-487d-89bc-fbbe155d2aa6",
   "metadata": {},
   "outputs": [
    {
     "data": {
      "text/plain": [
       "'yes'"
      ]
     },
     "execution_count": 8,
     "metadata": {},
     "output_type": "execute_result"
    }
   ],
   "source": [
    "b['mannat']['adarsh']"
   ]
  },
  {
   "cell_type": "code",
   "execution_count": 10,
   "id": "ba4f8fba-4d59-4ba4-ac18-03a37a9dcb37",
   "metadata": {},
   "outputs": [
    {
     "data": {
      "text/plain": [
       "120"
      ]
     },
     "execution_count": 10,
     "metadata": {},
     "output_type": "execute_result"
    }
   ],
   "source": [
    "b.pop(5)"
   ]
  },
  {
   "cell_type": "code",
   "execution_count": 11,
   "id": "fa321fb5-c62c-4390-a00a-60ec8369bb58",
   "metadata": {},
   "outputs": [
    {
     "data": {
      "text/plain": [
       "{'name': 'adarsh',\n",
       " 'sataye': [1, 2, 3, 4],\n",
       " 'sajai': (3, 45, 'amit'),\n",
       " 'asees': {450, 'no', 'yes'},\n",
       " 'mannat': {'adarsh': 'yes', 'shruti': 456}}"
      ]
     },
     "execution_count": 11,
     "metadata": {},
     "output_type": "execute_result"
    }
   ],
   "source": [
    "b"
   ]
  },
  {
   "cell_type": "code",
   "execution_count": 12,
   "id": "1765e4e3-c7f5-4ffd-8604-cf17633a7b93",
   "metadata": {},
   "outputs": [
    {
     "data": {
      "text/plain": [
       "dict_keys(['name', 'sataye', 'sajai', 'asees', 'mannat'])"
      ]
     },
     "execution_count": 12,
     "metadata": {},
     "output_type": "execute_result"
    }
   ],
   "source": [
    "b.keys()"
   ]
  },
  {
   "cell_type": "code",
   "execution_count": 14,
   "id": "87aec399-fcd7-4363-9c4c-171cb7df9bef",
   "metadata": {},
   "outputs": [
    {
     "data": {
      "text/plain": [
       "['name', 'sataye', 'sajai', 'asees', 'mannat']"
      ]
     },
     "execution_count": 14,
     "metadata": {},
     "output_type": "execute_result"
    }
   ],
   "source": [
    "list(b.keys())"
   ]
  },
  {
   "cell_type": "code",
   "execution_count": 16,
   "id": "a79fc685-5412-4cdd-be2d-1023e2ce5850",
   "metadata": {},
   "outputs": [
    {
     "data": {
      "text/plain": [
       "[('name', 'adarsh'),\n",
       " ('sataye', [1, 2, 3, 4]),\n",
       " ('sajai', (3, 45, 'amit')),\n",
       " ('asees', {450, 'no', 'yes'}),\n",
       " ('mannat', {'adarsh': 'yes', 'shruti': 456})]"
      ]
     },
     "execution_count": 16,
     "metadata": {},
     "output_type": "execute_result"
    }
   ],
   "source": [
    "list(b.items())"
   ]
  },
  {
   "cell_type": "code",
   "execution_count": 3,
   "id": "74ec63a2-db4f-439c-86f6-c58ccc362e03",
   "metadata": {},
   "outputs": [
    {
     "name": "stdout",
     "output_type": "stream",
     "text": [
      "fail\n"
     ]
    }
   ],
   "source": [
    "marks = 0\n",
    "if marks >= 80 :\n",
    "    print(\"Excellent\")\n",
    "elif marks >= 60 and marks <80 :\n",
    "    print(\"good\")\n",
    "elif marks >= 40 and marks < 60 :\n",
    "    print(\"not so good\")\n",
    "else :\n",
    "    print(\"fail\")"
   ]
  },
  {
   "cell_type": "code",
   "execution_count": 5,
   "id": "5976e6ed-0aac-4cae-b06b-a4afdef0e303",
   "metadata": {},
   "outputs": [
    {
     "name": "stdin",
     "output_type": "stream",
     "text": [
      "enter the marks 45\n"
     ]
    },
    {
     "name": "stdout",
     "output_type": "stream",
     "text": [
      "not so good\n"
     ]
    }
   ],
   "source": [
    "marks = int(input(\"enter the marks\"))\n",
    "if marks >= 80 :\n",
    "    print(\"Excellent\")\n",
    "elif marks >= 60 and marks <80 :\n",
    "    print(\"good\")\n",
    "elif marks >= 40 and marks < 60 :\n",
    "    print(\"not so good\")\n",
    "else :\n",
    "    print(\"fail\")"
   ]
  },
  {
   "cell_type": "code",
   "execution_count": 4,
   "id": "f58a16ca-98b6-40ea-82db-f400a9efdaf9",
   "metadata": {},
   "outputs": [
    {
     "data": {
      "text/plain": [
       "[2, 3, 4, 5, 6]"
      ]
     },
     "execution_count": 4,
     "metadata": {},
     "output_type": "execute_result"
    }
   ],
   "source": [
    "l = [1,2,3,4,5]\n",
    "l1 = []\n",
    "for i in l:\n",
    "    l1.append(i+1)\n",
    "l1"
   ]
  },
  {
   "cell_type": "code",
   "execution_count": 5,
   "id": "16573724-672e-4fe9-973f-fa3cd3b41fef",
   "metadata": {},
   "outputs": [
    {
     "data": {
      "text/plain": [
       "['ADARSH', 'SINGH', 'IS', 'SMART']"
      ]
     },
     "execution_count": 5,
     "metadata": {},
     "output_type": "execute_result"
    }
   ],
   "source": [
    "p = ['adarsh','singh','is','smart']\n",
    "q = []\n",
    "for i in p:\n",
    "    q.append(i.upper())\n",
    "q"
   ]
  },
  {
   "cell_type": "code",
   "execution_count": 7,
   "id": "a983e005-586a-4f2d-9db6-567836aa8d47",
   "metadata": {},
   "outputs": [
    {
     "data": {
      "text/plain": [
       "['adarsh', 'amit']"
      ]
     },
     "execution_count": 7,
     "metadata": {},
     "output_type": "execute_result"
    }
   ],
   "source": [
    "q = [1,'adarsh',345,'amit']\n",
    "m = []\n",
    "n = []\n",
    "for i in q:\n",
    "    if type(i)==int:\n",
    "        m.append(i)\n",
    "    else :\n",
    "        n.append(i)\n",
    "m\n",
    "n       "
   ]
  },
  {
   "cell_type": "code",
   "execution_count": null,
   "id": "71f91bbd-dde0-46a6-ae91-c1901d3ed937",
   "metadata": {},
   "outputs": [],
   "source": []
  }
 ],
 "metadata": {
  "kernelspec": {
   "display_name": "Python 3 (ipykernel)",
   "language": "python",
   "name": "python3"
  },
  "language_info": {
   "codemirror_mode": {
    "name": "ipython",
    "version": 3
   },
   "file_extension": ".py",
   "mimetype": "text/x-python",
   "name": "python",
   "nbconvert_exporter": "python",
   "pygments_lexer": "ipython3",
   "version": "3.10.8"
  }
 },
 "nbformat": 4,
 "nbformat_minor": 5
}
